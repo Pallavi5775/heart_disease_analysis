{
 "cells": [
  {
   "cell_type": "code",
   "execution_count": 3,
   "id": "79ad5a12-adde-43dd-8669-90f8477f0a3c",
   "metadata": {},
   "outputs": [
    {
     "data": {
      "text/html": [
       "<div>\n",
       "<style scoped>\n",
       "    .dataframe tbody tr th:only-of-type {\n",
       "        vertical-align: middle;\n",
       "    }\n",
       "\n",
       "    .dataframe tbody tr th {\n",
       "        vertical-align: top;\n",
       "    }\n",
       "\n",
       "    .dataframe thead th {\n",
       "        text-align: right;\n",
       "    }\n",
       "</style>\n",
       "<table border=\"1\" class=\"dataframe\">\n",
       "  <thead>\n",
       "    <tr style=\"text-align: right;\">\n",
       "      <th></th>\n",
       "      <th>age</th>\n",
       "      <th>gender</th>\n",
       "      <th>cholesterol</th>\n",
       "      <th>systolic_bp</th>\n",
       "      <th>diastolic_bp</th>\n",
       "      <th>bmi</th>\n",
       "      <th>smoker</th>\n",
       "      <th>diabetes</th>\n",
       "      <th>heart_disease</th>\n",
       "    </tr>\n",
       "  </thead>\n",
       "  <tbody>\n",
       "    <tr>\n",
       "      <th>0</th>\n",
       "      <td>68.0</td>\n",
       "      <td>0</td>\n",
       "      <td>209.164956</td>\n",
       "      <td>97.117122</td>\n",
       "      <td>74.713833</td>\n",
       "      <td>28.508402</td>\n",
       "      <td>0.0</td>\n",
       "      <td>0.0</td>\n",
       "      <td>0.0</td>\n",
       "    </tr>\n",
       "    <tr>\n",
       "      <th>1</th>\n",
       "      <td>58.0</td>\n",
       "      <td>1</td>\n",
       "      <td>176.503005</td>\n",
       "      <td>109.621379</td>\n",
       "      <td>85.863640</td>\n",
       "      <td>26.882949</td>\n",
       "      <td>1.0</td>\n",
       "      <td>0.0</td>\n",
       "      <td>0.0</td>\n",
       "    </tr>\n",
       "    <tr>\n",
       "      <th>2</th>\n",
       "      <td>44.0</td>\n",
       "      <td>1</td>\n",
       "      <td>187.153327</td>\n",
       "      <td>119.316210</td>\n",
       "      <td>92.382831</td>\n",
       "      <td>31.504201</td>\n",
       "      <td>1.0</td>\n",
       "      <td>0.0</td>\n",
       "      <td>0.0</td>\n",
       "    </tr>\n",
       "    <tr>\n",
       "      <th>3</th>\n",
       "      <td>72.0</td>\n",
       "      <td>0</td>\n",
       "      <td>173.519662</td>\n",
       "      <td>123.650092</td>\n",
       "      <td>80.212716</td>\n",
       "      <td>26.794425</td>\n",
       "      <td>0.0</td>\n",
       "      <td>0.0</td>\n",
       "      <td>0.0</td>\n",
       "    </tr>\n",
       "    <tr>\n",
       "      <th>4</th>\n",
       "      <td>37.0</td>\n",
       "      <td>1</td>\n",
       "      <td>198.433023</td>\n",
       "      <td>116.381459</td>\n",
       "      <td>83.088330</td>\n",
       "      <td>20.607503</td>\n",
       "      <td>0.0</td>\n",
       "      <td>0.0</td>\n",
       "      <td>0.0</td>\n",
       "    </tr>\n",
       "    <tr>\n",
       "      <th>...</th>\n",
       "      <td>...</td>\n",
       "      <td>...</td>\n",
       "      <td>...</td>\n",
       "      <td>...</td>\n",
       "      <td>...</td>\n",
       "      <td>...</td>\n",
       "      <td>...</td>\n",
       "      <td>...</td>\n",
       "      <td>...</td>\n",
       "    </tr>\n",
       "    <tr>\n",
       "      <th>495</th>\n",
       "      <td>34.0</td>\n",
       "      <td>1</td>\n",
       "      <td>200.541726</td>\n",
       "      <td>121.135968</td>\n",
       "      <td>76.083514</td>\n",
       "      <td>32.525816</td>\n",
       "      <td>1.0</td>\n",
       "      <td>0.0</td>\n",
       "      <td>0.0</td>\n",
       "    </tr>\n",
       "    <tr>\n",
       "      <th>496</th>\n",
       "      <td>41.0</td>\n",
       "      <td>1</td>\n",
       "      <td>216.255029</td>\n",
       "      <td>122.715323</td>\n",
       "      <td>82.691269</td>\n",
       "      <td>21.830949</td>\n",
       "      <td>0.0</td>\n",
       "      <td>0.0</td>\n",
       "      <td>0.0</td>\n",
       "    </tr>\n",
       "    <tr>\n",
       "      <th>497</th>\n",
       "      <td>45.0</td>\n",
       "      <td>0</td>\n",
       "      <td>197.520603</td>\n",
       "      <td>100.547521</td>\n",
       "      <td>76.568077</td>\n",
       "      <td>29.758831</td>\n",
       "      <td>0.0</td>\n",
       "      <td>0.0</td>\n",
       "      <td>0.0</td>\n",
       "    </tr>\n",
       "    <tr>\n",
       "      <th>498</th>\n",
       "      <td>55.0</td>\n",
       "      <td>1</td>\n",
       "      <td>242.411418</td>\n",
       "      <td>125.995319</td>\n",
       "      <td>86.215719</td>\n",
       "      <td>24.988101</td>\n",
       "      <td>0.0</td>\n",
       "      <td>0.0</td>\n",
       "      <td>0.0</td>\n",
       "    </tr>\n",
       "    <tr>\n",
       "      <th>499</th>\n",
       "      <td>55.0</td>\n",
       "      <td>1</td>\n",
       "      <td>173.247881</td>\n",
       "      <td>110.229647</td>\n",
       "      <td>76.303897</td>\n",
       "      <td>28.053949</td>\n",
       "      <td>1.0</td>\n",
       "      <td>0.0</td>\n",
       "      <td>0.0</td>\n",
       "    </tr>\n",
       "  </tbody>\n",
       "</table>\n",
       "<p>500 rows × 9 columns</p>\n",
       "</div>"
      ],
      "text/plain": [
       "      age  gender  cholesterol  systolic_bp  diastolic_bp        bmi  smoker  \\\n",
       "0    68.0       0   209.164956    97.117122     74.713833  28.508402     0.0   \n",
       "1    58.0       1   176.503005   109.621379     85.863640  26.882949     1.0   \n",
       "2    44.0       1   187.153327   119.316210     92.382831  31.504201     1.0   \n",
       "3    72.0       0   173.519662   123.650092     80.212716  26.794425     0.0   \n",
       "4    37.0       1   198.433023   116.381459     83.088330  20.607503     0.0   \n",
       "..    ...     ...          ...          ...           ...        ...     ...   \n",
       "495  34.0       1   200.541726   121.135968     76.083514  32.525816     1.0   \n",
       "496  41.0       1   216.255029   122.715323     82.691269  21.830949     0.0   \n",
       "497  45.0       0   197.520603   100.547521     76.568077  29.758831     0.0   \n",
       "498  55.0       1   242.411418   125.995319     86.215719  24.988101     0.0   \n",
       "499  55.0       1   173.247881   110.229647     76.303897  28.053949     1.0   \n",
       "\n",
       "     diabetes  heart_disease  \n",
       "0         0.0            0.0  \n",
       "1         0.0            0.0  \n",
       "2         0.0            0.0  \n",
       "3         0.0            0.0  \n",
       "4         0.0            0.0  \n",
       "..        ...            ...  \n",
       "495       0.0            0.0  \n",
       "496       0.0            0.0  \n",
       "497       0.0            0.0  \n",
       "498       0.0            0.0  \n",
       "499       0.0            0.0  \n",
       "\n",
       "[500 rows x 9 columns]"
      ]
     },
     "execution_count": 3,
     "metadata": {},
     "output_type": "execute_result"
    }
   ],
   "source": [
    "import pandas as pd\n",
    "import numpy as np\n",
    "\n",
    "df = pd.read_csv('./preprocessed_dataset.csv')\n",
    "df"
   ]
  },
  {
   "cell_type": "markdown",
   "id": "dfc89b4f-2890-4eb5-8048-c93a25fa4ba4",
   "metadata": {},
   "source": [
    "## Checking Class Imbalance"
   ]
  },
  {
   "cell_type": "code",
   "execution_count": 4,
   "id": "d4a0abc9-69b1-4b5b-b4df-1bb70215555e",
   "metadata": {},
   "outputs": [
    {
     "data": {
      "text/plain": [
       "array([0., 1.])"
      ]
     },
     "execution_count": 4,
     "metadata": {},
     "output_type": "execute_result"
    }
   ],
   "source": [
    "target_column = 'heart_disease'  # Replace with actual target column name\n",
    "\n",
    "# Check unique class values\n",
    "df[target_column].unique()\n"
   ]
  },
  {
   "cell_type": "code",
   "execution_count": 5,
   "id": "3f106d92-c383-4562-9853-c8a8fc638e80",
   "metadata": {},
   "outputs": [
    {
     "name": "stdout",
     "output_type": "stream",
     "text": [
      "heart_disease\n",
      "0.0    350\n",
      "1.0    150\n",
      "Name: count, dtype: int64\n"
     ]
    }
   ],
   "source": [
    "class_counts = df[target_column].value_counts()\n",
    "print(class_counts)\n"
   ]
  },
  {
   "cell_type": "code",
   "execution_count": 6,
   "id": "d7bb3573-e5eb-4950-966d-815f34d4f703",
   "metadata": {},
   "outputs": [
    {
     "data": {
      "image/png": "[encoded data removed]",
      "text/plain": [
       "<Figure size 600x400 with 1 Axes>"
      ]
     },
     "metadata": {},
     "output_type": "display_data"
    }
   ],
   "source": [
    "import matplotlib.pyplot as plt\n",
    "import seaborn as sns\n",
    "\n",
    "plt.figure(figsize=(6, 4))\n",
    "sns.countplot(x=df[target_column])\n",
    "plt.title(\"Class Distribution\")\n",
    "plt.xlabel(\"Class\")\n",
    "plt.ylabel(\"Count\")\n",
    "plt.show()\n"
   ]
  },
  {
   "cell_type": "code",
   "execution_count": 7,
   "id": "ddada950-bd01-4409-9478-34c62df6f4ff",
   "metadata": {},
   "outputs": [
    {
     "name": "stdout",
     "output_type": "stream",
     "text": [
      "{np.float64(0.0): np.float64(0.7142857142857143), np.float64(1.0): np.float64(1.6666666666666667)}\n"
     ]
    }
   ],
   "source": [
    "from sklearn.utils.class_weight import compute_class_weight\n",
    "import numpy as np\n",
    "\n",
    "classes = df[target_column].unique()\n",
    "weights = compute_class_weight(class_weight='balanced', classes=classes, y=df[target_column])\n",
    "\n",
    "class_weights = dict(zip(classes, weights))\n",
    "print(class_weights)\n"
   ]
  },
  {
   "cell_type": "code",
   "execution_count": 8,
   "id": "520736d0-e4f3-47d9-8443-421a5d0f25f2",
   "metadata": {},
   "outputs": [
    {
     "name": "stdout",
     "output_type": "stream",
     "text": [
      "Imbalance Ratio: 2.33\n"
     ]
    }
   ],
   "source": [
    "imbalance_ratio = class_counts.max() / class_counts.min()\n",
    "print(f\"Imbalance Ratio: {imbalance_ratio:.2f}\")\n"
   ]
  },
  {
   "cell_type": "markdown",
   "id": "d60ae124-a791-44ec-87f4-e7ec62dfa87a",
   "metadata": {},
   "source": [
    "## Normalizing Numeric Features"
   ]
  },
  {
   "cell_type": "code",
   "execution_count": 9,
   "id": "2be2fc01-06e5-4ad9-8ac3-7046e3a9bec9",
   "metadata": {},
   "outputs": [
    {
     "name": "stdout",
     "output_type": "stream",
     "text": [
      "Before SMOTE:\n",
      " heart_disease\n",
      "0.0    280\n",
      "1.0    120\n",
      "Name: count, dtype: int64\n",
      "After SMOTE:\n",
      " heart_disease\n",
      "1.0    280\n",
      "0.0    280\n",
      "Name: count, dtype: int64\n"
     ]
    }
   ],
   "source": [
    "from imblearn.over_sampling import SMOTE\n",
    "from sklearn.model_selection import train_test_split\n",
    "\n",
    "# Identify features (X) and target variable (y)\n",
    "X = df.drop(columns=['heart_disease'])  # Independent variables\n",
    "y = df['heart_disease']  # Target variable\n",
    "\n",
    "# Split data into training and testing sets\n",
    "X_train, X_test, y_train, y_test = train_test_split(X, y, test_size=0.2, random_state=42, stratify=y)\n",
    "\n",
    "# Apply SMOTE to oversample the minority class\n",
    "smote = SMOTE(sampling_strategy='auto', random_state=42)\n",
    "X_train_resampled, y_train_resampled = smote.fit_resample(X_train, y_train)\n",
    "\n",
    "# Check the new class distribution after SMOTE\n",
    "print(\"Before SMOTE:\\n\", y_train.value_counts())\n",
    "print(\"After SMOTE:\\n\", pd.Series(y_train_resampled).value_counts())"
   ]
  },
  {
   "cell_type": "code",
   "execution_count": 10,
   "id": "879868a4-39a1-4624-8d73-b91f2657ba2f",
   "metadata": {},
   "outputs": [
    {
     "data": {
      "image/png": "[encoded data removed]",
      "text/plain": [
       "<Figure size 600x400 with 1 Axes>"
      ]
     },
     "metadata": {},
     "output_type": "display_data"
    }
   ],
   "source": []
  },
  {
   "cell_type": "code",
   "execution_count": null,
   "id": "0d7ff147-096a-4fa1-a852-994f0af80873",
   "metadata": {},
   "outputs": [],
   "source": []
  }
 ],
 "metadata": {
  "kernelspec": {
   "display_name": "Python 3 (ipykernel)",
   "language": "python",
   "name": "python3"
  },
  "language_info": {
   "codemirror_mode": {
    "name": "ipython",
    "version": 3
   },
   "file_extension": ".py",
   "mimetype": "text/x-python",
   "name": "python",
   "nbconvert_exporter": "python",
   "pygments_lexer": "ipython3",
   "version": "3.11.9"
  }
 },
 "nbformat": 4,
 "nbformat_minor": 5
}
