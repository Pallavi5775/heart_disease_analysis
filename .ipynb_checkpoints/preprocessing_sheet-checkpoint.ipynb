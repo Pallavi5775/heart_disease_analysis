{
 "cells": [
  {
   "cell_type": "code",
   "execution_count": 1,
   "id": "65f466b6-d133-4d21-a29d-272871667b0c",
   "metadata": {},
   "outputs": [
    {
     "data": {
      "text/html": [
       "<div>\n",
       "<style scoped>\n",
       "    .dataframe tbody tr th:only-of-type {\n",
       "        vertical-align: middle;\n",
       "    }\n",
       "\n",
       "    .dataframe tbody tr th {\n",
       "        vertical-align: top;\n",
       "    }\n",
       "\n",
       "    .dataframe thead th {\n",
       "        text-align: right;\n",
       "    }\n",
       "</style>\n",
       "<table border=\"1\" class=\"dataframe\">\n",
       "  <thead>\n",
       "    <tr style=\"text-align: right;\">\n",
       "      <th></th>\n",
       "      <th>age</th>\n",
       "      <th>gender</th>\n",
       "      <th>cholesterol</th>\n",
       "      <th>systolic_bp</th>\n",
       "      <th>diastolic_bp</th>\n",
       "      <th>bmi</th>\n",
       "      <th>smoker</th>\n",
       "      <th>diabetes</th>\n",
       "      <th>heart_disease</th>\n",
       "    </tr>\n",
       "  </thead>\n",
       "  <tbody>\n",
       "    <tr>\n",
       "      <th>0</th>\n",
       "      <td>68</td>\n",
       "      <td>Female</td>\n",
       "      <td>209.164956</td>\n",
       "      <td>97.117122</td>\n",
       "      <td>74.713833</td>\n",
       "      <td>28.508402</td>\n",
       "      <td>0</td>\n",
       "      <td>0</td>\n",
       "      <td>0</td>\n",
       "    </tr>\n",
       "    <tr>\n",
       "      <th>1</th>\n",
       "      <td>58</td>\n",
       "      <td>Male</td>\n",
       "      <td>176.503005</td>\n",
       "      <td>109.621379</td>\n",
       "      <td>85.863640</td>\n",
       "      <td>26.882949</td>\n",
       "      <td>1</td>\n",
       "      <td>0</td>\n",
       "      <td>0</td>\n",
       "    </tr>\n",
       "    <tr>\n",
       "      <th>2</th>\n",
       "      <td>44</td>\n",
       "      <td>Male</td>\n",
       "      <td>187.153327</td>\n",
       "      <td>119.316210</td>\n",
       "      <td>92.382831</td>\n",
       "      <td>31.504201</td>\n",
       "      <td>1</td>\n",
       "      <td>0</td>\n",
       "      <td>0</td>\n",
       "    </tr>\n",
       "    <tr>\n",
       "      <th>3</th>\n",
       "      <td>72</td>\n",
       "      <td>Female</td>\n",
       "      <td>173.519662</td>\n",
       "      <td>123.650092</td>\n",
       "      <td>80.212716</td>\n",
       "      <td>26.794425</td>\n",
       "      <td>0</td>\n",
       "      <td>0</td>\n",
       "      <td>0</td>\n",
       "    </tr>\n",
       "    <tr>\n",
       "      <th>4</th>\n",
       "      <td>37</td>\n",
       "      <td>Male</td>\n",
       "      <td>198.433023</td>\n",
       "      <td>116.381459</td>\n",
       "      <td>83.088330</td>\n",
       "      <td>19.907870</td>\n",
       "      <td>0</td>\n",
       "      <td>0</td>\n",
       "      <td>0</td>\n",
       "    </tr>\n",
       "    <tr>\n",
       "      <th>...</th>\n",
       "      <td>...</td>\n",
       "      <td>...</td>\n",
       "      <td>...</td>\n",
       "      <td>...</td>\n",
       "      <td>...</td>\n",
       "      <td>...</td>\n",
       "      <td>...</td>\n",
       "      <td>...</td>\n",
       "      <td>...</td>\n",
       "    </tr>\n",
       "    <tr>\n",
       "      <th>495</th>\n",
       "      <td>34</td>\n",
       "      <td>Male</td>\n",
       "      <td>NaN</td>\n",
       "      <td>NaN</td>\n",
       "      <td>76.083514</td>\n",
       "      <td>32.525816</td>\n",
       "      <td>1</td>\n",
       "      <td>0</td>\n",
       "      <td>0</td>\n",
       "    </tr>\n",
       "    <tr>\n",
       "      <th>496</th>\n",
       "      <td>41</td>\n",
       "      <td>Male</td>\n",
       "      <td>216.255029</td>\n",
       "      <td>122.715323</td>\n",
       "      <td>82.691269</td>\n",
       "      <td>21.830949</td>\n",
       "      <td>0</td>\n",
       "      <td>0</td>\n",
       "      <td>0</td>\n",
       "    </tr>\n",
       "    <tr>\n",
       "      <th>497</th>\n",
       "      <td>45</td>\n",
       "      <td>Female</td>\n",
       "      <td>197.520603</td>\n",
       "      <td>100.547521</td>\n",
       "      <td>76.568077</td>\n",
       "      <td>29.758831</td>\n",
       "      <td>0</td>\n",
       "      <td>0</td>\n",
       "      <td>0</td>\n",
       "    </tr>\n",
       "    <tr>\n",
       "      <th>498</th>\n",
       "      <td>55</td>\n",
       "      <td>Male</td>\n",
       "      <td>246.165925</td>\n",
       "      <td>125.995319</td>\n",
       "      <td>86.215719</td>\n",
       "      <td>24.988101</td>\n",
       "      <td>0</td>\n",
       "      <td>0</td>\n",
       "      <td>0</td>\n",
       "    </tr>\n",
       "    <tr>\n",
       "      <th>499</th>\n",
       "      <td>55</td>\n",
       "      <td>Male</td>\n",
       "      <td>173.247881</td>\n",
       "      <td>110.229647</td>\n",
       "      <td>76.303897</td>\n",
       "      <td>28.053949</td>\n",
       "      <td>1</td>\n",
       "      <td>0</td>\n",
       "      <td>0</td>\n",
       "    </tr>\n",
       "  </tbody>\n",
       "</table>\n",
       "<p>500 rows × 9 columns</p>\n",
       "</div>"
      ],
      "text/plain": [
       "     age  gender  cholesterol  systolic_bp  diastolic_bp        bmi  smoker  \\\n",
       "0     68  Female   209.164956    97.117122     74.713833  28.508402       0   \n",
       "1     58    Male   176.503005   109.621379     85.863640  26.882949       1   \n",
       "2     44    Male   187.153327   119.316210     92.382831  31.504201       1   \n",
       "3     72  Female   173.519662   123.650092     80.212716  26.794425       0   \n",
       "4     37    Male   198.433023   116.381459     83.088330  19.907870       0   \n",
       "..   ...     ...          ...          ...           ...        ...     ...   \n",
       "495   34    Male          NaN          NaN     76.083514  32.525816       1   \n",
       "496   41    Male   216.255029   122.715323     82.691269  21.830949       0   \n",
       "497   45  Female   197.520603   100.547521     76.568077  29.758831       0   \n",
       "498   55    Male   246.165925   125.995319     86.215719  24.988101       0   \n",
       "499   55    Male   173.247881   110.229647     76.303897  28.053949       1   \n",
       "\n",
       "     diabetes  heart_disease  \n",
       "0           0              0  \n",
       "1           0              0  \n",
       "2           0              0  \n",
       "3           0              0  \n",
       "4           0              0  \n",
       "..        ...            ...  \n",
       "495         0              0  \n",
       "496         0              0  \n",
       "497         0              0  \n",
       "498         0              0  \n",
       "499         0              0  \n",
       "\n",
       "[500 rows x 9 columns]"
      ]
     },
     "execution_count": 1,
     "metadata": {},
     "output_type": "execute_result"
    }
   ],
   "source": [
    "import numpy as np\n",
    "import pandas as pd\n",
    "\n",
    "df = pd.read_csv('./heart_disease.csv')\n",
    "df"
   ]
  },
  {
   "cell_type": "code",
   "execution_count": 2,
   "id": "3d0f76ec-665a-46a5-91df-318c0ab5073f",
   "metadata": {},
   "outputs": [
    {
     "data": {
      "text/plain": [
       "age                int64\n",
       "gender            object\n",
       "cholesterol      float64\n",
       "systolic_bp      float64\n",
       "diastolic_bp     float64\n",
       "bmi              float64\n",
       "smoker             int64\n",
       "diabetes           int64\n",
       "heart_disease      int64\n",
       "dtype: object"
      ]
     },
     "execution_count": 2,
     "metadata": {},
     "output_type": "execute_result"
    }
   ],
   "source": [
    "df.dtypes"
   ]
  },
  {
   "cell_type": "code",
   "execution_count": 3,
   "id": "cbfda340-2a37-4c55-93ec-c71a3e0cf1af",
   "metadata": {},
   "outputs": [
    {
     "data": {
      "text/plain": [
       "['gender']"
      ]
     },
     "execution_count": 3,
     "metadata": {},
     "output_type": "execute_result"
    }
   ],
   "source": [
    "categorical_cols = df.select_dtypes(include=['object']).columns.to_list()\n",
    "categorical_cols"
   ]
  },
  {
   "cell_type": "code",
   "execution_count": 4,
   "id": "a5819d86-23eb-4639-8959-a58f7926f98d",
   "metadata": {},
   "outputs": [
    {
     "data": {
      "text/plain": [
       "['age',\n",
       " 'cholesterol',\n",
       " 'systolic_bp',\n",
       " 'diastolic_bp',\n",
       " 'bmi',\n",
       " 'smoker',\n",
       " 'diabetes',\n",
       " 'heart_disease']"
      ]
     },
     "execution_count": 4,
     "metadata": {},
     "output_type": "execute_result"
    }
   ],
   "source": [
    "numerical_cols = df.select_dtypes(include=['float', 'int']).columns.to_list()\n",
    "numerical_cols"
   ]
  },
  {
   "cell_type": "code",
   "execution_count": 5,
   "id": "511da835-7643-4aca-a811-e28eb5cbcf46",
   "metadata": {},
   "outputs": [
    {
     "data": {
      "text/html": [
       "<div>\n",
       "<style scoped>\n",
       "    .dataframe tbody tr th:only-of-type {\n",
       "        vertical-align: middle;\n",
       "    }\n",
       "\n",
       "    .dataframe tbody tr th {\n",
       "        vertical-align: top;\n",
       "    }\n",
       "\n",
       "    .dataframe thead th {\n",
       "        text-align: right;\n",
       "    }\n",
       "</style>\n",
       "<table border=\"1\" class=\"dataframe\">\n",
       "  <thead>\n",
       "    <tr style=\"text-align: right;\">\n",
       "      <th></th>\n",
       "      <th>age</th>\n",
       "      <th>cholesterol</th>\n",
       "      <th>systolic_bp</th>\n",
       "      <th>diastolic_bp</th>\n",
       "      <th>bmi</th>\n",
       "      <th>smoker</th>\n",
       "      <th>diabetes</th>\n",
       "      <th>heart_disease</th>\n",
       "    </tr>\n",
       "  </thead>\n",
       "  <tbody>\n",
       "    <tr>\n",
       "      <th>0</th>\n",
       "      <td>68</td>\n",
       "      <td>209.164956</td>\n",
       "      <td>97.117122</td>\n",
       "      <td>74.713833</td>\n",
       "      <td>28.508402</td>\n",
       "      <td>0</td>\n",
       "      <td>0</td>\n",
       "      <td>0</td>\n",
       "    </tr>\n",
       "    <tr>\n",
       "      <th>1</th>\n",
       "      <td>58</td>\n",
       "      <td>176.503005</td>\n",
       "      <td>109.621379</td>\n",
       "      <td>85.863640</td>\n",
       "      <td>26.882949</td>\n",
       "      <td>1</td>\n",
       "      <td>0</td>\n",
       "      <td>0</td>\n",
       "    </tr>\n",
       "    <tr>\n",
       "      <th>2</th>\n",
       "      <td>44</td>\n",
       "      <td>187.153327</td>\n",
       "      <td>119.316210</td>\n",
       "      <td>92.382831</td>\n",
       "      <td>31.504201</td>\n",
       "      <td>1</td>\n",
       "      <td>0</td>\n",
       "      <td>0</td>\n",
       "    </tr>\n",
       "    <tr>\n",
       "      <th>3</th>\n",
       "      <td>72</td>\n",
       "      <td>173.519662</td>\n",
       "      <td>123.650092</td>\n",
       "      <td>80.212716</td>\n",
       "      <td>26.794425</td>\n",
       "      <td>0</td>\n",
       "      <td>0</td>\n",
       "      <td>0</td>\n",
       "    </tr>\n",
       "    <tr>\n",
       "      <th>4</th>\n",
       "      <td>37</td>\n",
       "      <td>198.433023</td>\n",
       "      <td>116.381459</td>\n",
       "      <td>83.088330</td>\n",
       "      <td>19.907870</td>\n",
       "      <td>0</td>\n",
       "      <td>0</td>\n",
       "      <td>0</td>\n",
       "    </tr>\n",
       "    <tr>\n",
       "      <th>...</th>\n",
       "      <td>...</td>\n",
       "      <td>...</td>\n",
       "      <td>...</td>\n",
       "      <td>...</td>\n",
       "      <td>...</td>\n",
       "      <td>...</td>\n",
       "      <td>...</td>\n",
       "      <td>...</td>\n",
       "    </tr>\n",
       "    <tr>\n",
       "      <th>495</th>\n",
       "      <td>34</td>\n",
       "      <td>NaN</td>\n",
       "      <td>NaN</td>\n",
       "      <td>76.083514</td>\n",
       "      <td>32.525816</td>\n",
       "      <td>1</td>\n",
       "      <td>0</td>\n",
       "      <td>0</td>\n",
       "    </tr>\n",
       "    <tr>\n",
       "      <th>496</th>\n",
       "      <td>41</td>\n",
       "      <td>216.255029</td>\n",
       "      <td>122.715323</td>\n",
       "      <td>82.691269</td>\n",
       "      <td>21.830949</td>\n",
       "      <td>0</td>\n",
       "      <td>0</td>\n",
       "      <td>0</td>\n",
       "    </tr>\n",
       "    <tr>\n",
       "      <th>497</th>\n",
       "      <td>45</td>\n",
       "      <td>197.520603</td>\n",
       "      <td>100.547521</td>\n",
       "      <td>76.568077</td>\n",
       "      <td>29.758831</td>\n",
       "      <td>0</td>\n",
       "      <td>0</td>\n",
       "      <td>0</td>\n",
       "    </tr>\n",
       "    <tr>\n",
       "      <th>498</th>\n",
       "      <td>55</td>\n",
       "      <td>246.165925</td>\n",
       "      <td>125.995319</td>\n",
       "      <td>86.215719</td>\n",
       "      <td>24.988101</td>\n",
       "      <td>0</td>\n",
       "      <td>0</td>\n",
       "      <td>0</td>\n",
       "    </tr>\n",
       "    <tr>\n",
       "      <th>499</th>\n",
       "      <td>55</td>\n",
       "      <td>173.247881</td>\n",
       "      <td>110.229647</td>\n",
       "      <td>76.303897</td>\n",
       "      <td>28.053949</td>\n",
       "      <td>1</td>\n",
       "      <td>0</td>\n",
       "      <td>0</td>\n",
       "    </tr>\n",
       "  </tbody>\n",
       "</table>\n",
       "<p>500 rows × 8 columns</p>\n",
       "</div>"
      ],
      "text/plain": [
       "     age  cholesterol  systolic_bp  diastolic_bp        bmi  smoker  diabetes  \\\n",
       "0     68   209.164956    97.117122     74.713833  28.508402       0         0   \n",
       "1     58   176.503005   109.621379     85.863640  26.882949       1         0   \n",
       "2     44   187.153327   119.316210     92.382831  31.504201       1         0   \n",
       "3     72   173.519662   123.650092     80.212716  26.794425       0         0   \n",
       "4     37   198.433023   116.381459     83.088330  19.907870       0         0   \n",
       "..   ...          ...          ...           ...        ...     ...       ...   \n",
       "495   34          NaN          NaN     76.083514  32.525816       1         0   \n",
       "496   41   216.255029   122.715323     82.691269  21.830949       0         0   \n",
       "497   45   197.520603   100.547521     76.568077  29.758831       0         0   \n",
       "498   55   246.165925   125.995319     86.215719  24.988101       0         0   \n",
       "499   55   173.247881   110.229647     76.303897  28.053949       1         0   \n",
       "\n",
       "     heart_disease  \n",
       "0                0  \n",
       "1                0  \n",
       "2                0  \n",
       "3                0  \n",
       "4                0  \n",
       "..             ...  \n",
       "495              0  \n",
       "496              0  \n",
       "497              0  \n",
       "498              0  \n",
       "499              0  \n",
       "\n",
       "[500 rows x 8 columns]"
      ]
     },
     "execution_count": 5,
     "metadata": {},
     "output_type": "execute_result"
    }
   ],
   "source": [
    "categorical_cols_df = df.select_dtypes(include=['object'])\n",
    "numerical_cols_df = df.select_dtypes(include=['float', 'int'])\n",
    "numerical_cols_df"
   ]
  },
  {
   "cell_type": "markdown",
   "id": "6e674e7e-b084-4b7a-8513-a03b17c06b87",
   "metadata": {},
   "source": [
    "## Determine correlation between numerical features and target variable | between Features"
   ]
  },
  {
   "cell_type": "code",
   "execution_count": 6,
   "id": "6e25e9f0-1aae-42b7-80c4-d47d3384ac9c",
   "metadata": {},
   "outputs": [
    {
     "data": {
      "text/html": [
       "<div>\n",
       "<style scoped>\n",
       "    .dataframe tbody tr th:only-of-type {\n",
       "        vertical-align: middle;\n",
       "    }\n",
       "\n",
       "    .dataframe tbody tr th {\n",
       "        vertical-align: top;\n",
       "    }\n",
       "\n",
       "    .dataframe thead th {\n",
       "        text-align: right;\n",
       "    }\n",
       "</style>\n",
       "<table border=\"1\" class=\"dataframe\">\n",
       "  <thead>\n",
       "    <tr style=\"text-align: right;\">\n",
       "      <th></th>\n",
       "      <th>age</th>\n",
       "      <th>cholesterol</th>\n",
       "      <th>systolic_bp</th>\n",
       "      <th>diastolic_bp</th>\n",
       "      <th>bmi</th>\n",
       "      <th>smoker</th>\n",
       "      <th>diabetes</th>\n",
       "      <th>heart_disease</th>\n",
       "    </tr>\n",
       "  </thead>\n",
       "  <tbody>\n",
       "    <tr>\n",
       "      <th>age</th>\n",
       "      <td>1.000000</td>\n",
       "      <td>0.007234</td>\n",
       "      <td>-0.002844</td>\n",
       "      <td>-0.078933</td>\n",
       "      <td>0.014662</td>\n",
       "      <td>0.032300</td>\n",
       "      <td>0.030707</td>\n",
       "      <td>0.222297</td>\n",
       "    </tr>\n",
       "    <tr>\n",
       "      <th>cholesterol</th>\n",
       "      <td>0.007234</td>\n",
       "      <td>1.000000</td>\n",
       "      <td>0.071839</td>\n",
       "      <td>-0.034307</td>\n",
       "      <td>0.032765</td>\n",
       "      <td>0.041115</td>\n",
       "      <td>0.010141</td>\n",
       "      <td>0.293417</td>\n",
       "    </tr>\n",
       "    <tr>\n",
       "      <th>systolic_bp</th>\n",
       "      <td>-0.002844</td>\n",
       "      <td>0.071839</td>\n",
       "      <td>1.000000</td>\n",
       "      <td>-0.030689</td>\n",
       "      <td>-0.048167</td>\n",
       "      <td>0.003586</td>\n",
       "      <td>-0.083319</td>\n",
       "      <td>0.334885</td>\n",
       "    </tr>\n",
       "    <tr>\n",
       "      <th>diastolic_bp</th>\n",
       "      <td>-0.078933</td>\n",
       "      <td>-0.034307</td>\n",
       "      <td>-0.030689</td>\n",
       "      <td>1.000000</td>\n",
       "      <td>-0.072058</td>\n",
       "      <td>-0.063167</td>\n",
       "      <td>-0.012768</td>\n",
       "      <td>-0.005641</td>\n",
       "    </tr>\n",
       "    <tr>\n",
       "      <th>bmi</th>\n",
       "      <td>0.014662</td>\n",
       "      <td>0.032765</td>\n",
       "      <td>-0.048167</td>\n",
       "      <td>-0.072058</td>\n",
       "      <td>1.000000</td>\n",
       "      <td>-0.001852</td>\n",
       "      <td>0.010981</td>\n",
       "      <td>0.083494</td>\n",
       "    </tr>\n",
       "    <tr>\n",
       "      <th>smoker</th>\n",
       "      <td>0.032300</td>\n",
       "      <td>0.041115</td>\n",
       "      <td>0.003586</td>\n",
       "      <td>-0.063167</td>\n",
       "      <td>-0.001852</td>\n",
       "      <td>1.000000</td>\n",
       "      <td>-0.009456</td>\n",
       "      <td>0.094452</td>\n",
       "    </tr>\n",
       "    <tr>\n",
       "      <th>diabetes</th>\n",
       "      <td>0.030707</td>\n",
       "      <td>0.010141</td>\n",
       "      <td>-0.083319</td>\n",
       "      <td>-0.012768</td>\n",
       "      <td>0.010981</td>\n",
       "      <td>-0.009456</td>\n",
       "      <td>1.000000</td>\n",
       "      <td>0.162218</td>\n",
       "    </tr>\n",
       "    <tr>\n",
       "      <th>heart_disease</th>\n",
       "      <td>0.222297</td>\n",
       "      <td>0.293417</td>\n",
       "      <td>0.334885</td>\n",
       "      <td>-0.005641</td>\n",
       "      <td>0.083494</td>\n",
       "      <td>0.094452</td>\n",
       "      <td>0.162218</td>\n",
       "      <td>1.000000</td>\n",
       "    </tr>\n",
       "  </tbody>\n",
       "</table>\n",
       "</div>"
      ],
      "text/plain": [
       "                    age  cholesterol  systolic_bp  diastolic_bp       bmi  \\\n",
       "age            1.000000     0.007234    -0.002844     -0.078933  0.014662   \n",
       "cholesterol    0.007234     1.000000     0.071839     -0.034307  0.032765   \n",
       "systolic_bp   -0.002844     0.071839     1.000000     -0.030689 -0.048167   \n",
       "diastolic_bp  -0.078933    -0.034307    -0.030689      1.000000 -0.072058   \n",
       "bmi            0.014662     0.032765    -0.048167     -0.072058  1.000000   \n",
       "smoker         0.032300     0.041115     0.003586     -0.063167 -0.001852   \n",
       "diabetes       0.030707     0.010141    -0.083319     -0.012768  0.010981   \n",
       "heart_disease  0.222297     0.293417     0.334885     -0.005641  0.083494   \n",
       "\n",
       "                 smoker  diabetes  heart_disease  \n",
       "age            0.032300  0.030707       0.222297  \n",
       "cholesterol    0.041115  0.010141       0.293417  \n",
       "systolic_bp    0.003586 -0.083319       0.334885  \n",
       "diastolic_bp  -0.063167 -0.012768      -0.005641  \n",
       "bmi           -0.001852  0.010981       0.083494  \n",
       "smoker         1.000000 -0.009456       0.094452  \n",
       "diabetes      -0.009456  1.000000       0.162218  \n",
       "heart_disease  0.094452  0.162218       1.000000  "
      ]
     },
     "execution_count": 6,
     "metadata": {},
     "output_type": "execute_result"
    }
   ],
   "source": [
    "num_corr_matrix = df[numerical_cols].corr(method=\"pearson\")\n",
    "\n",
    "num_corr_matrix"
   ]
  },
  {
   "cell_type": "code",
   "execution_count": 7,
   "id": "9e3e3baf-0420-4915-9636-982aa2dc3393",
   "metadata": {},
   "outputs": [
    {
     "name": "stdout",
     "output_type": "stream",
     "text": [
      "Series([], dtype: object)\n"
     ]
    }
   ],
   "source": [
    "import numpy as np\n",
    "# Identify highly correlated features (absolute correlation > 0.8)\n",
    "high_corr_pairs = num_corr_matrix.abs() > 0.8\n",
    "high_corr_pairs = high_corr_pairs.where(~np.eye(high_corr_pairs.shape[0],dtype=bool)).stack()\n",
    "\n",
    "# Filter pairs with True values\n",
    "high_corr_pairs = high_corr_pairs[high_corr_pairs]\n",
    "print(high_corr_pairs)"
   ]
  },
  {
   "cell_type": "code",
   "execution_count": 8,
   "id": "cc2a1400-6149-45bc-a0d4-03a7be39bf37",
   "metadata": {},
   "outputs": [
    {
     "name": "stdout",
     "output_type": "stream",
     "text": [
      "heart_disease    1.000000\n",
      "systolic_bp      0.334885\n",
      "cholesterol      0.293417\n",
      "age              0.222297\n",
      "diabetes         0.162218\n",
      "smoker           0.094452\n",
      "bmi              0.083494\n",
      "diastolic_bp    -0.005641\n",
      "Name: heart_disease, dtype: float64\n"
     ]
    }
   ],
   "source": [
    "target_corr = df[numerical_cols].corr()[\"heart_disease\"].sort_values(ascending=False)\n",
    "print(target_corr)"
   ]
  },
  {
   "cell_type": "code",
   "execution_count": 9,
   "id": "b8bd95a7-d233-400d-b987-fdfcfd5f6e93",
   "metadata": {},
   "outputs": [
    {
     "name": "stdout",
     "output_type": "stream",
     "text": [
      "{'heart_disease': 1.0}\n"
     ]
    }
   ],
   "source": [
    "highly_corelated_target = {}\n",
    "for key, corr in target_corr.items():\n",
    "    if corr > 0.5 or corr < -0.5:\n",
    "        highly_corelated_target[key] = corr\n",
    "        \n",
    "print(highly_corelated_target) "
   ]
  },
  {
   "cell_type": "code",
   "execution_count": 10,
   "id": "6ef02969-56aa-485e-83c5-4b6e5d34fba1",
   "metadata": {},
   "outputs": [
    {
     "name": "stdout",
     "output_type": "stream",
     "text": [
      "Mutual Information Score: 0.0010367334476389933\n"
     ]
    }
   ],
   "source": [
    "from sklearn.feature_selection import mutual_info_classif\n",
    "from sklearn.preprocessing import LabelEncoder\n",
    "\n",
    "\n",
    "# Encode categorical features\n",
    "encoder = LabelEncoder()\n",
    "df['gender'] = encoder.fit_transform(df['gender'])\n",
    "\n",
    "# Compute Mutual Information\n",
    "mi = mutual_info_classif(df[['gender']], df['heart_disease'], discrete_features=True)\n",
    "\n",
    "print(f\"Mutual Information Score: {mi[0]}\")"
   ]
  },
  {
   "cell_type": "markdown",
   "id": "19fffb1e-52cb-4939-b0e1-7216e52b556e",
   "metadata": {},
   "source": [
    "## Handling Missing values"
   ]
  },
  {
   "cell_type": "code",
   "execution_count": 11,
   "id": "7303c2f2-df6a-4f57-83f4-aa46e2744e1a",
   "metadata": {},
   "outputs": [
    {
     "data": {
      "text/plain": [
       "age               0\n",
       "gender            0\n",
       "cholesterol      25\n",
       "systolic_bp      25\n",
       "diastolic_bp      0\n",
       "bmi               0\n",
       "smoker            0\n",
       "diabetes          0\n",
       "heart_disease     0\n",
       "dtype: int64"
      ]
     },
     "execution_count": 11,
     "metadata": {},
     "output_type": "execute_result"
    }
   ],
   "source": [
    "df.isnull().sum()"
   ]
  },
  {
   "cell_type": "code",
   "execution_count": 12,
   "id": "1b045f37-8f93-47dd-b9a9-fe00fef54d81",
   "metadata": {},
   "outputs": [
    {
     "data": {
      "text/plain": [
       "age              0.0\n",
       "gender           0.0\n",
       "cholesterol      5.0\n",
       "systolic_bp      5.0\n",
       "diastolic_bp     0.0\n",
       "bmi              0.0\n",
       "smoker           0.0\n",
       "diabetes         0.0\n",
       "heart_disease    0.0\n",
       "dtype: float64"
      ]
     },
     "execution_count": 12,
     "metadata": {},
     "output_type": "execute_result"
    }
   ],
   "source": [
    "missing_percentage = (df.isnull().sum() / len(df)) * 100\n",
    "\n",
    "missing_percentage"
   ]
  },
  {
   "cell_type": "markdown",
   "id": "7edbd367-b3d1-4b41-813f-15a2900529af",
   "metadata": {},
   "source": [
    "## Checking the data distribution"
   ]
  },
  {
   "cell_type": "code",
   "execution_count": 13,
   "id": "72973254-eb1b-4da1-9492-e389cfa8c64a",
   "metadata": {},
   "outputs": [
    {
     "data": {
      "image/png": "[encoded data removed]",
      "text/plain": [
       "<Figure size 800x500 with 1 Axes>"
      ]
     },
     "metadata": {},
     "output_type": "display_data"
    },
    {
     "data": {
      "image/png": "[encoded data removed]",
      "text/plain": [
       "<Figure size 800x500 with 1 Axes>"
      ]
     },
     "metadata": {},
     "output_type": "display_data"
    },
    {
     "data": {
      "image/png": "[encoded data removed]",
      "text/plain": [
       "<Figure size 800x500 with 1 Axes>"
      ]
     },
     "metadata": {},
     "output_type": "display_data"
    },
    {
     "data": {
      "image/png": "[encoded data removed]",
      "text/plain": [
       "<Figure size 800x500 with 1 Axes>"
      ]
     },
     "metadata": {},
     "output_type": "display_data"
    },
    {
     "data": {
      "image/png": "[encoded data removed]",
      "text/plain": [
       "<Figure size 800x500 with 1 Axes>"
      ]
     },
     "metadata": {},
     "output_type": "display_data"
    },
    {
     "data": {
      "image/png": "[encoded data removed]",
      "text/plain": [
       "<Figure size 800x500 with 1 Axes>"
      ]
     },
     "metadata": {},
     "output_type": "display_data"
    },
    {
     "data": {
      "image/png": "[encoded data removed]",
      "text/plain": [
       "<Figure size 800x500 with 1 Axes>"
      ]
     },
     "metadata": {},
     "output_type": "display_data"
    },
    {
     "data": {
      "image/png": "[encoded data removed]",
      "text/plain": [
       "<Figure size 800x500 with 1 Axes>"
      ]
     },
     "metadata": {},
     "output_type": "display_data"
    }
   ],
   "source": [
    "import matplotlib.pyplot as plt\n",
    "import seaborn as sns\n",
    "\n",
    "# Generate histograms for all numerical columns\n",
    "for col in numerical_cols:\n",
    "    plt.figure(figsize=(8, 5))\n",
    "    df[col].hist(bins=30, edgecolor=\"black\")\n",
    "    plt.xlabel(col)\n",
    "    plt.ylabel(\"Frequency\")\n",
    "    plt.title(f\"Histogram of {col}\")\n",
    "    plt.grid(False)\n",
    "    plt.show()"
   ]
  },
  {
   "cell_type": "markdown",
   "id": "68a3cb55-11f2-4d59-9246-365bb0ae3d6f",
   "metadata": {},
   "source": [
    "## Will do mean imputation as the data is uniformly distributed"
   ]
  },
  {
   "cell_type": "code",
   "execution_count": 14,
   "id": "b39a81b3-db6e-4ee1-97f3-f408f678c7c3",
   "metadata": {},
   "outputs": [
    {
     "data": {
      "text/plain": [
       "age              0\n",
       "gender           0\n",
       "cholesterol      0\n",
       "systolic_bp      0\n",
       "diastolic_bp     0\n",
       "bmi              0\n",
       "smoker           0\n",
       "diabetes         0\n",
       "heart_disease    0\n",
       "dtype: int64"
      ]
     },
     "execution_count": 14,
     "metadata": {},
     "output_type": "execute_result"
    }
   ],
   "source": [
    "from sklearn.impute import SimpleImputer\n",
    "# Initialize SimpleImputer with mean strategy\n",
    "imputer = SimpleImputer(strategy='mean')\n",
    "\n",
    "# Apply imputation\n",
    "df[numerical_cols] = imputer.fit_transform(df[numerical_cols])\n",
    "\n",
    "df.isnull().sum()"
   ]
  },
  {
   "cell_type": "markdown",
   "id": "e2ff40c9-80b8-4912-bdcc-89358bcc9473",
   "metadata": {},
   "source": [
    "## Detecting and handling Outliers"
   ]
  },
  {
   "cell_type": "code",
   "execution_count": 22,
   "id": "de75e2f1-47cb-4354-bce4-2a5003b14cb5",
   "metadata": {},
   "outputs": [
    {
     "data": {
      "text/plain": [
       "np.int64(0)"
      ]
     },
     "execution_count": 22,
     "metadata": {},
     "output_type": "execute_result"
    }
   ],
   "source": [
    "df.duplicated().sum()"
   ]
  },
  {
   "cell_type": "code",
   "execution_count": 24,
   "id": "00369ed6-d1be-40cf-b4b2-e510173c6f2a",
   "metadata": {},
   "outputs": [
    {
     "name": "stdout",
     "output_type": "stream",
     "text": [
      "IQR Outliers: {'age': 0, 'cholesterol': 9, 'systolic_bp': 2, 'diastolic_bp': 4, 'bmi': 5, 'smoker': 0, 'diabetes': 65, 'heart_disease': 0}\n"
     ]
    }
   ],
   "source": [
    "def detect_outliers_iqr(df, col):\n",
    "    Q1 = df[col].quantile(0.25)\n",
    "    Q3 = df[col].quantile(0.75)\n",
    "    IQR = Q3 - Q1\n",
    "    lower_bound = Q1 - 1.5 * IQR\n",
    "    upper_bound = Q3 + 1.5 * IQR\n",
    "    return df[(df[col] < lower_bound) | (df[col] > upper_bound)]\n",
    "\n",
    "\n",
    "# Identify numerical columns excluding binary ones\n",
    "binary_cols = [\"smoker\", \"diabetes\", \"heart_disease\"]\n",
    "numerical_cols_refined = [col for col in df.select_dtypes(include=[np.number]).columns if col not in binary_cols]\n",
    "\n",
    "# Apply outlier detection only to continuous numerical columns\n",
    "\n",
    "outliers_iqr = {col: detect_outliers_iqr(df, col) for col in numerical_cols_refined}\n",
    "print(\"IQR Outliers:\", {col: len(outliers) for col, outliers in outliers_iqr.items()})"
   ]
  },
  {
   "cell_type": "code",
   "execution_count": 29,
   "id": "38766521-da66-49d3-934d-8ef33de03e62",
   "metadata": {},
   "outputs": [],
   "source": [
    "for col in numerical_cols:\n",
    "    Q1 = df[col].quantile(0.05)\n",
    "    Q3 = df[col].quantile(0.95)\n",
    "    df[col] = np.clip(df[col], Q1, Q3)\n",
    "\n",
    "median_value = df[\"diabetes\"].median()\n",
    "df[\"diabetes\"] = np.where(df[\"diabetes\"] > 60, median_value, df[\"diabetes\"])\n",
    "    "
   ]
  },
  {
   "cell_type": "code",
   "execution_count": 30,
   "id": "ed6aa8f2-4e05-460b-8351-7aabf77de810",
   "metadata": {},
   "outputs": [
    {
     "name": "stdout",
     "output_type": "stream",
     "text": [
      "IQR Outliers: {'age': 0, 'cholesterol': 0, 'systolic_bp': 0, 'diastolic_bp': 0, 'bmi': 0, 'smoker': 0, 'diabetes': 65, 'heart_disease': 0}\n"
     ]
    }
   ],
   "source": [
    "outliers_iqr = {col: detect_outliers_iqr(df, col) for col in numerical_cols}\n",
    "print(\"IQR Outliers:\", {col: len(outliers) for col, outliers in outliers_iqr.items()})"
   ]
  },
  {
   "cell_type": "code",
   "execution_count": 33,
   "id": "ad447052-71a3-47f5-be6d-323029b33747",
   "metadata": {},
   "outputs": [
    {
     "data": {
      "text/plain": [
       "diabetes\n",
       "0.0    435\n",
       "1.0     65\n",
       "Name: count, dtype: int64"
      ]
     },
     "execution_count": 33,
     "metadata": {},
     "output_type": "execute_result"
    }
   ],
   "source": [
    "df[\"diabetes\"].value_counts()"
   ]
  },
  {
   "cell_type": "markdown",
   "id": "6c857708-a7d4-4174-82a3-66fe26a25704",
   "metadata": {},
   "source": [
    "## Checking for data imbalance"
   ]
  },
  {
   "cell_type": "code",
   "execution_count": 16,
   "id": "40a1812c-c686-4d90-a29b-73e3c9ec8d40",
   "metadata": {},
   "outputs": [
    {
     "data": {
      "text/plain": [
       "array([0., 1.])"
      ]
     },
     "execution_count": 16,
     "metadata": {},
     "output_type": "execute_result"
    }
   ],
   "source": [
    "target_column = 'heart_disease'  # Replace with actual target column name\n",
    "\n",
    "# Check unique class values\n",
    "df[target_column].unique()\n"
   ]
  },
  {
   "cell_type": "code",
   "execution_count": 17,
   "id": "7861f630-b2f4-4c91-92a4-13138967d912",
   "metadata": {},
   "outputs": [
    {
     "name": "stdout",
     "output_type": "stream",
     "text": [
      "heart_disease\n",
      "0.0    350\n",
      "1.0    150\n",
      "Name: count, dtype: int64\n"
     ]
    }
   ],
   "source": [
    "class_counts = df[target_column].value_counts()\n",
    "print(class_counts)"
   ]
  },
  {
   "cell_type": "code",
   "execution_count": 18,
   "id": "797b17c8-ef49-4305-bf54-b2e81341c9a7",
   "metadata": {},
   "outputs": [
    {
     "data": {
      "image/png": "[encoded data removed]",
      "text/plain": [
       "<Figure size 600x400 with 1 Axes>"
      ]
     },
     "metadata": {},
     "output_type": "display_data"
    }
   ],
   "source": [
    "import matplotlib.pyplot as plt\n",
    "import seaborn as sns\n",
    "\n",
    "plt.figure(figsize=(6, 4))\n",
    "sns.countplot(x=df[target_column])\n",
    "plt.title(\"Class Distribution\")\n",
    "plt.xlabel(\"Class\")\n",
    "plt.ylabel(\"Count\")\n",
    "plt.show()"
   ]
  },
  {
   "cell_type": "code",
   "execution_count": 19,
   "id": "60301e4a-7d39-4b01-a829-f5743a9e8312",
   "metadata": {},
   "outputs": [
    {
     "name": "stdout",
     "output_type": "stream",
     "text": [
      "{np.float64(0.0): np.float64(0.7142857142857143), np.float64(1.0): np.float64(1.6666666666666667)}\n"
     ]
    }
   ],
   "source": [
    "from sklearn.utils.class_weight import compute_class_weight\n",
    "import numpy as np\n",
    "\n",
    "classes = df[target_column].unique()\n",
    "weights = compute_class_weight(class_weight='balanced', classes=classes, y=df[target_column])\n",
    "\n",
    "class_weights = dict(zip(classes, weights))\n",
    "print(class_weights)"
   ]
  },
  {
   "cell_type": "code",
   "execution_count": 20,
   "id": "ee80fad3-fb3d-449a-9201-6c8da5276f07",
   "metadata": {},
   "outputs": [
    {
     "name": "stdout",
     "output_type": "stream",
     "text": [
      "Imbalance Ratio: 2.33\n"
     ]
    }
   ],
   "source": [
    "imbalance_ratio = class_counts.max() / class_counts.min()\n",
    "print(f\"Imbalance Ratio: {imbalance_ratio:.2f}\")"
   ]
  },
  {
   "cell_type": "code",
   "execution_count": null,
   "id": "bf17b967-1376-4086-8018-5131d1265298",
   "metadata": {},
   "outputs": [],
   "source": []
  }
 ],
 "metadata": {
  "kernelspec": {
   "display_name": "Python 3 (ipykernel)",
   "language": "python",
   "name": "python3"
  },
  "language_info": {
   "codemirror_mode": {
    "name": "ipython",
    "version": 3
   },
   "file_extension": ".py",
   "mimetype": "text/x-python",
   "name": "python",
   "nbconvert_exporter": "python",
   "pygments_lexer": "ipython3",
   "version": "3.11.9"
  }
 },
 "nbformat": 4,
 "nbformat_minor": 5
}
