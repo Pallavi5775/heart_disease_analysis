{
 "cells": [
  {
   "cell_type": "code",
   "execution_count": 2,
   "id": "65f466b6-d133-4d21-a29d-272871667b0c",
   "metadata": {},
   "outputs": [
    {
     "ename": "SyntaxError",
     "evalue": "invalid syntax (2126353973.py, line 57)",
     "output_type": "error",
     "traceback": [
      "\u001b[1;36m  Cell \u001b[1;32mIn[2], line 57\u001b[1;36m\u001b[0m\n\u001b[1;33m    data.to_csv('heart_disease.csv', index:False)\u001b[0m\n\u001b[1;37m                                          ^\u001b[0m\n\u001b[1;31mSyntaxError\u001b[0m\u001b[1;31m:\u001b[0m invalid syntax\n"
     ]
    }
   ],
   "source": [
    "import numpy as np\n",
    "import pandas as pd\n",
    "\n",
    "# Set seed for reproducibility\n",
    "np.random.seed(42)\n",
    "\n",
    "# Number of samples\n",
    "n_samples = 500\n",
    "\n",
    "# Simulate features\n",
    "age = np.random.randint(30, 80, size=n_samples)  # Ages between 30 and 80\n",
    "gender = np.random.choice(['Male', 'Female'], size=n_samples)\n",
    "cholesterol = np.random.normal(loc=200, scale=25, size=n_samples)  # Average cholesterol around 200 mg/dL\n",
    "systolic_bp = np.random.normal(loc=120, scale=15, size=n_samples)  # Systolic blood pressure\n",
    "diastolic_bp = np.random.normal(loc=80, scale=10, size=n_samples)   # Diastolic blood pressure\n",
    "bmi = np.random.normal(loc=27, scale=4, size=n_samples)             # Average BMI\n",
    "smoker = np.random.choice([0, 1], size=n_samples, p=[0.7, 0.3])     # 30% smokers\n",
    "diabetes = np.random.choice([0, 1], size=n_samples, p=[0.85, 0.15])   # 15% with diabetes\n",
    "\n",
    "# Compute a synthetic risk score for heart disease.\n",
    "# The formula below is arbitrary and serves to create a non-linear, interacting relationship between features.\n",
    "risk_score = (\n",
    "    0.03 * age +\n",
    "    0.02 * cholesterol +\n",
    "    0.04 * systolic_bp +\n",
    "    0.05 * bmi +\n",
    "    0.5 * smoker +\n",
    "    0.7 * diabetes +\n",
    "    np.random.normal(0, 1, n_samples)  # Adding some random noise\n",
    ")\n",
    "\n",
    "# Determine heart disease outcome by setting a threshold at the 70th percentile of the risk score\n",
    "threshold = np.percentile(risk_score, 70)\n",
    "heart_disease = (risk_score > threshold).astype(int)\n",
    "\n",
    "# Create a DataFrame\n",
    "data = pd.DataFrame({\n",
    "    'age': age,\n",
    "    'gender': gender,\n",
    "    'cholesterol': cholesterol,\n",
    "    'systolic_bp': systolic_bp,\n",
    "    'diastolic_bp': diastolic_bp,\n",
    "    'bmi': bmi,\n",
    "    'smoker': smoker,\n",
    "    'diabetes': diabetes,\n",
    "    'heart_disease': heart_disease\n",
    "})\n",
    "\n",
    "# Introduce missing values to simulate real-world data challenges.\n",
    "# For example, let's inject missing values in 5% of the 'cholesterol' and 'systolic_bp' entries.\n",
    "for col in ['cholesterol', 'systolic_bp']:\n",
    "    missing_indices = data.sample(frac=0.05, random_state=42).index\n",
    "    data.loc[missing_indices, col] = np.nan\n",
    "\n",
    "# Display the first few rows of the dataset\n",
    "print(data.head())\n",
    "data.to_csv('heart_disease.csv', index:False)"
   ]
  },
  {
   "cell_type": "code",
   "execution_count": null,
   "id": "3d0f76ec-665a-46a5-91df-318c0ab5073f",
   "metadata": {},
   "outputs": [],
   "source": []
  }
 ],
 "metadata": {
  "kernelspec": {
   "display_name": "Python 3 (ipykernel)",
   "language": "python",
   "name": "python3"
  },
  "language_info": {
   "codemirror_mode": {
    "name": "ipython",
    "version": 3
   },
   "file_extension": ".py",
   "mimetype": "text/x-python",
   "name": "python",
   "nbconvert_exporter": "python",
   "pygments_lexer": "ipython3",
   "version": "3.11.9"
  }
 },
 "nbformat": 4,
 "nbformat_minor": 5
}
